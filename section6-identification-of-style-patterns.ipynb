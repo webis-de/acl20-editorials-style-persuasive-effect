{
 "cells": [
  {
   "cell_type": "markdown",
   "metadata": {},
   "source": [
    "## <a name=\"table\">Table of Contents</a> \n",
    "\n",
    "[0. Load Data](#load_data)  \n",
    "- [loading all, conservative, liberal](#load_main) \n",
    "- [loading train, test](#load_train_test)\n",
    "- [loading articles and all classes (majority, distribution)](#load_articles)\n",
    "<br><br>\n",
    "\n",
    "\n",
    "[I. Finding Strategies per Effect](#finding_strategies)  \n",
    "\n",
    "   - I.1 [Extract features for lead body and end (liwc, mpqa, nrc, adu, lemmas)](#i1_extract_features) \n",
    "    \n",
    "   - I.2 [Cluster_Analysis](#i2_cluster_analysis) <br>\n",
    "     - 2.0 [Cluster Analysis - RUN ALL Settings](#i20_cluster_analysis) <br>\n",
    "     - 2.a [Lead](#i2a_lead) <br>\n",
    "     - 2.b [Body](#i2b_body) <br>\n",
    "     - 2.c [End](#i2c_end) <br>\n",
    "   - I.3 [Mapping Clusters](#i3_mapping_clusters)\n",
    "     - 3.a [Lead](#i3a_lead) <br>\n",
    "     - 3.b [Body](#i3b_body) <br>\n",
    "     - 3.c [End](#i3c_end) <br>\n",
    "   \n",
    "[II. Model](#model)\n",
    "\n",
    "   - II.2 [Using Bert](#bert)\n",
    "   "
   ]
  },
  {
   "cell_type": "code",
   "execution_count": 3,
   "metadata": {},
   "outputs": [],
   "source": [
    "import glob\n",
    "import pandas as pd\n",
    "import numpy as np\n",
    "import text_miner\n",
    "import loader\n",
    "import topic_modeler as tm\n",
    "\n",
    "from sklearn.preprocessing import MinMaxScaler\n",
    "from sklearn.preprocessing import StandardScaler\n",
    "from sklearn.cluster import KMeans\n",
    "from sklearn.metrics import silhouette_samples, silhouette_score\n",
    "from sklearn.decomposition import PCA \n",
    "from sklearn.preprocessing import StandardScaler\n",
    "from sklearn.discriminant_analysis import LinearDiscriminantAnalysis as LDA\n",
    "from sklearn.cluster import DBSCAN\n",
    "from mpl_toolkits.mplot3d import Axes3D\n",
    "import matplotlib.pyplot as plt\n",
    "import pandas as pd\n",
    "from sklearn.cluster import AgglomerativeClustering\n",
    "from sklearn.cluster import KMeans\n",
    "from sklearn import preprocessing\n",
    "import importlib\n",
    "import cluster_analysis\n",
    "\n",
    "import significance_testing\n",
    "import seaborn as sns\n",
    "from functools import reduce #python 3\n",
    "import machine_learning\n",
    "import lexicons\n",
    "import utility\n",
    "import matplotlib\n",
    "import scipy.stats as stats\n",
    "import significance_testing\n",
    "\n",
    "%matplotlib inline\n",
    "matplotlib.rcParams.update({'font.size': 12})"
   ]
  },
  {
   "cell_type": "markdown",
   "metadata": {},
   "source": [
    "# <a name=\"load_data\">0. Load Data</a> \n",
    "[Back to Table of Contents](#table)"
   ]
  },
  {
   "cell_type": "markdown",
   "metadata": {},
   "source": [
    "## <a name=\"load_main\">loading all, conservative, liberal</a> \n"
   ]
  },
  {
   "cell_type": "code",
   "execution_count": 8,
   "metadata": {},
   "outputs": [
    {
     "name": "stdout",
     "output_type": "stream",
     "text": [
      "\"corpus\" is set. It contains the 6000 annotation\n"
     ]
    }
   ],
   "source": [
    "load = loader.loader()\n",
    "corpus = load.corpus\n",
    "#corpus = load.add_ideology_intensity()"
   ]
  },
  {
   "cell_type": "code",
   "execution_count": 9,
   "metadata": {},
   "outputs": [
    {
     "data": {
      "text/html": [
       "<div>\n",
       "<style scoped>\n",
       "    .dataframe tbody tr th:only-of-type {\n",
       "        vertical-align: middle;\n",
       "    }\n",
       "\n",
       "    .dataframe tbody tr th {\n",
       "        vertical-align: top;\n",
       "    }\n",
       "\n",
       "    .dataframe thead th {\n",
       "        text-align: right;\n",
       "    }\n",
       "</style>\n",
       "<table border=\"1\" class=\"dataframe\">\n",
       "  <thead>\n",
       "    <tr style=\"text-align: right;\">\n",
       "      <th></th>\n",
       "      <th>annotator_id</th>\n",
       "      <th>article_id</th>\n",
       "      <th>political_typology</th>\n",
       "      <th>effect</th>\n",
       "      <th>explanation</th>\n",
       "      <th>article_index</th>\n",
       "      <th>change</th>\n",
       "      <th>empower</th>\n",
       "      <th>date_created</th>\n",
       "      <th>political_pole</th>\n",
       "      <th>effect_abstracted</th>\n",
       "      <th>batch</th>\n",
       "      <th>intensity</th>\n",
       "    </tr>\n",
       "  </thead>\n",
       "  <tbody>\n",
       "    <tr>\n",
       "      <th>0</th>\n",
       "      <td>C03</td>\n",
       "      <td>1638699.txt</td>\n",
       "      <td>Country First Conservatives</td>\n",
       "      <td>5</td>\n",
       "      <td>I have made public resolutions that failed and...</td>\n",
       "      <td>0</td>\n",
       "      <td>None</td>\n",
       "      <td>YES</td>\n",
       "      <td>2018-05-04 18:34:14.588362+02</td>\n",
       "      <td>conservative</td>\n",
       "      <td>3</td>\n",
       "      <td>batch1</td>\n",
       "      <td>strong</td>\n",
       "    </tr>\n",
       "    <tr>\n",
       "      <th>1</th>\n",
       "      <td>C03</td>\n",
       "      <td>1640113.txt</td>\n",
       "      <td>Country First Conservatives</td>\n",
       "      <td>5</td>\n",
       "      <td>This is one of those that I wouldn’t argue bec...</td>\n",
       "      <td>1</td>\n",
       "      <td>None</td>\n",
       "      <td>NO</td>\n",
       "      <td>2018-05-04 18:34:14.588362+02</td>\n",
       "      <td>conservative</td>\n",
       "      <td>3</td>\n",
       "      <td>batch1</td>\n",
       "      <td>strong</td>\n",
       "    </tr>\n",
       "    <tr>\n",
       "      <th>2</th>\n",
       "      <td>C03</td>\n",
       "      <td>1640630.txt</td>\n",
       "      <td>Country First Conservatives</td>\n",
       "      <td>3</td>\n",
       "      <td>River restoration is nice, I suppose.</td>\n",
       "      <td>2</td>\n",
       "      <td>None</td>\n",
       "      <td>None</td>\n",
       "      <td>2018-05-04 18:34:14.588362+02</td>\n",
       "      <td>conservative</td>\n",
       "      <td>2</td>\n",
       "      <td>batch1</td>\n",
       "      <td>none</td>\n",
       "    </tr>\n",
       "    <tr>\n",
       "      <th>3</th>\n",
       "      <td>C03</td>\n",
       "      <td>1640915.txt</td>\n",
       "      <td>Country First Conservatives</td>\n",
       "      <td>2</td>\n",
       "      <td>I feel like we should be helping the poor, but...</td>\n",
       "      <td>3</td>\n",
       "      <td>None</td>\n",
       "      <td>None</td>\n",
       "      <td>2018-05-04 18:34:14.588362+02</td>\n",
       "      <td>conservative</td>\n",
       "      <td>1</td>\n",
       "      <td>batch1</td>\n",
       "      <td>moderate</td>\n",
       "    </tr>\n",
       "    <tr>\n",
       "      <th>4</th>\n",
       "      <td>L07</td>\n",
       "      <td>1638699.txt</td>\n",
       "      <td>Disaffected Democrats</td>\n",
       "      <td>4</td>\n",
       "      <td>I genuinely believe that people need to be act...</td>\n",
       "      <td>0</td>\n",
       "      <td>None</td>\n",
       "      <td>None</td>\n",
       "      <td>2018-05-04 20:24:51.224554+02</td>\n",
       "      <td>liberal</td>\n",
       "      <td>3</td>\n",
       "      <td>batch1</td>\n",
       "      <td>moderate</td>\n",
       "    </tr>\n",
       "  </tbody>\n",
       "</table>\n",
       "</div>"
      ],
      "text/plain": [
       "  annotator_id   article_id           political_typology  effect  \\\n",
       "0          C03  1638699.txt  Country First Conservatives       5   \n",
       "1          C03  1640113.txt  Country First Conservatives       5   \n",
       "2          C03  1640630.txt  Country First Conservatives       3   \n",
       "3          C03  1640915.txt  Country First Conservatives       2   \n",
       "4          L07  1638699.txt        Disaffected Democrats       4   \n",
       "\n",
       "                                         explanation  article_index change  \\\n",
       "0  I have made public resolutions that failed and...              0   None   \n",
       "1  This is one of those that I wouldn’t argue bec...              1   None   \n",
       "2              River restoration is nice, I suppose.              2   None   \n",
       "3  I feel like we should be helping the poor, but...              3   None   \n",
       "4  I genuinely believe that people need to be act...              0   None   \n",
       "\n",
       "  empower                   date_created political_pole  effect_abstracted  \\\n",
       "0     YES  2018-05-04 18:34:14.588362+02   conservative                  3   \n",
       "1      NO  2018-05-04 18:34:14.588362+02   conservative                  3   \n",
       "2    None  2018-05-04 18:34:14.588362+02   conservative                  2   \n",
       "3    None  2018-05-04 18:34:14.588362+02   conservative                  1   \n",
       "4    None  2018-05-04 20:24:51.224554+02        liberal                  3   \n",
       "\n",
       "    batch intensity  \n",
       "0  batch1    strong  \n",
       "1  batch1    strong  \n",
       "2  batch1      none  \n",
       "3  batch1  moderate  \n",
       "4  batch1  moderate  "
      ]
     },
     "execution_count": 9,
     "metadata": {},
     "output_type": "execute_result"
    }
   ],
   "source": [
    "corpus.head()\n"
   ]
  },
  {
   "cell_type": "markdown",
   "metadata": {},
   "source": [
    "## <a name=\"load_articles\">loading articles and all classes (majority, distribution)</a> \n"
   ]
  },
  {
   "cell_type": "code",
   "execution_count": 10,
   "metadata": {},
   "outputs": [
    {
     "data": {
      "text/html": [
       "<div>\n",
       "<style scoped>\n",
       "    .dataframe tbody tr th:only-of-type {\n",
       "        vertical-align: middle;\n",
       "    }\n",
       "\n",
       "    .dataframe tbody tr th {\n",
       "        vertical-align: top;\n",
       "    }\n",
       "\n",
       "    .dataframe thead th {\n",
       "        text-align: right;\n",
       "    }\n",
       "</style>\n",
       "<table border=\"1\" class=\"dataframe\">\n",
       "  <thead>\n",
       "    <tr style=\"text-align: right;\">\n",
       "      <th></th>\n",
       "      <th>conservative_majority</th>\n",
       "      <th>liberal_majority</th>\n",
       "    </tr>\n",
       "    <tr>\n",
       "      <th>idx</th>\n",
       "      <th></th>\n",
       "      <th></th>\n",
       "    </tr>\n",
       "  </thead>\n",
       "  <tbody>\n",
       "    <tr>\n",
       "      <th>1677322</th>\n",
       "      <td>challenging</td>\n",
       "      <td>reinforcing</td>\n",
       "    </tr>\n",
       "    <tr>\n",
       "      <th>1818732</th>\n",
       "      <td>no_effect</td>\n",
       "      <td>reinforcing</td>\n",
       "    </tr>\n",
       "    <tr>\n",
       "      <th>1680635</th>\n",
       "      <td>no_effect</td>\n",
       "      <td>reinforcing</td>\n",
       "    </tr>\n",
       "    <tr>\n",
       "      <th>1647477</th>\n",
       "      <td>reinforcing</td>\n",
       "      <td>reinforcing</td>\n",
       "    </tr>\n",
       "    <tr>\n",
       "      <th>1785853</th>\n",
       "      <td>reinforcing</td>\n",
       "      <td>reinforcing</td>\n",
       "    </tr>\n",
       "  </tbody>\n",
       "</table>\n",
       "</div>"
      ],
      "text/plain": [
       "        conservative_majority liberal_majority\n",
       "idx                                           \n",
       "1677322           challenging      reinforcing\n",
       "1818732             no_effect      reinforcing\n",
       "1680635             no_effect      reinforcing\n",
       "1647477           reinforcing      reinforcing\n",
       "1785853           reinforcing      reinforcing"
      ]
     },
     "execution_count": 10,
     "metadata": {},
     "output_type": "execute_result"
    }
   ],
   "source": [
    "df_majority = pd.read_json('data/articles_with_adu_liwc_lexicons.json', orient='records')\n",
    "df_majority.set_index('idx', inplace=True)\n",
    "#df_features = df_features[['conservative_majority',  'liberal_majority',]]\n",
    "df_majority=df_majority[df_majority['split_label']=='train']\n",
    "df_majority = df_majority[['conservative_majority',  'liberal_majority',]]\n",
    "df_majority.head()"
   ]
  },
  {
   "cell_type": "markdown",
   "metadata": {},
   "source": [
    "#  <a name=\"finding_strategy\">I. Finding Strategies per Effect</a>\n",
    "[Back to Table of Contents](#table)\n",
    "\n",
    "**Having**\n",
    "  - LEAD: First 2 paragraphs\n",
    "  - End: Last paragraph n.\n",
    "  - Body: Paragraphs 3-(n-1)\n",
    "  \n",
    "    1. Get features for lead, body, end.\n",
    "    2. Cluster lead, body, end each. For example, we would have 3 labels for lead, 5 for body and 3 for end. This leads to 3x5x3 combinations\n",
    "    3. align cluster labels as strategies for each editorial\n",
    "    4. stats - het top strategies per effect-ideology\n",
    "    5. calculate significancy"
   ]
  },
  {
   "cell_type": "markdown",
   "metadata": {},
   "source": [
    "## <a name=\"i1_extract_features\">1. Extract features for lead body and end </a>\n",
    "\n"
   ]
  },
  {
   "cell_type": "code",
   "execution_count": 11,
   "metadata": {},
   "outputs": [
    {
     "data": {
      "text/plain": [
       "<module 'loader' from 'C:\\\\Users\\\\Roxanne El Baff\\\\Documents\\\\projects\\\\acl2020-news-editorial-analysis\\\\loader.py'>"
      ]
     },
     "execution_count": 11,
     "metadata": {},
     "output_type": "execute_result"
    }
   ],
   "source": [
    "import machine_learning\n"
   ]
  },
  {
   "cell_type": "code",
   "execution_count": 12,
   "metadata": {},
   "outputs": [
    {
     "name": "stdout",
     "output_type": "stream",
     "text": [
      "setting split_label\n",
      "setting discourse_level\n"
     ]
    },
    {
     "data": {
      "text/plain": [
       "979"
      ]
     },
     "execution_count": 12,
     "metadata": {},
     "output_type": "execute_result"
    }
   ],
   "source": [
    "pars_features_df = load.load_saved_pars_df()\n",
    "\n",
    "len(pars_features_df['id'].unique())"
   ]
  },
  {
   "cell_type": "code",
   "execution_count": 13,
   "metadata": {
    "collapsed": true
   },
   "outputs": [],
   "source": [
    "import features\n",
    "def get_column_types(df):\n",
    "    cols_map = {\n",
    "        'liwc': [l for l in df.columns if l.startswith('liwc_')],\n",
    "        'nrc': [l for l in df.columns if l.startswith('nrc_')],\n",
    "        'mpqa_arg': [l for l in df.columns if l.startswith('mpqa_arg_')],\n",
    "        'mpqa_par_sentences': [l for l in df.columns if l.startswith('mpqa_par_sentences')],\n",
    "        'adu': [l for l in df.columns if l.startswith('adu_')],\n",
    "    }\n",
    " \n",
    "    return cols_map\n",
    "\n",
    "\n",
    "\n",
    "def clustering_discourse_level(df, discourse_level='all', normalize=True):#only_numeric for clustering\n",
    "    cols_map = get_column_types(df).values()\n",
    "    cols = reduce(lambda x,y: x+y,cols_map)\n",
    "    df_ = df[df['discourse_level'] == discourse_level] if discourse_level != 'all' else df\n",
    "\n",
    "    df_ = df_[df_['split_label'] == 'train']\n",
    "    cluster_df = df_.copy()\n",
    "    \n",
    "\n",
    "    cluster_df = df_.set_index('id')\n",
    "    cluster_df = cluster_df[cols]\n",
    "    cluster_df = cluster_df.groupby(['id'], as_index=True).sum()\n",
    "    \n",
    "    ## Normalize for only training set for discourse level\n",
    "    cluster_df, _ = machine_learning.clip_outliers(cluster_df, df_test =None, lower_percentile=1,  upper_percentile=99)\n",
    "    if normalize:\n",
    "        cluster_df, _ = machine_learning.normalize(cluster_df, None, normalizing_method=\"sqrt\")\n",
    "    return cluster_df\n",
    "    "
   ]
  },
  {
   "cell_type": "markdown",
   "metadata": {},
   "source": [
    "## <a name=\"i2_cluster_analysis\">2. Cluster Analysis</a>\n",
    "\n"
   ]
  },
  {
   "cell_type": "code",
   "execution_count": 14,
   "metadata": {},
   "outputs": [
    {
     "data": {
      "text/plain": [
       "<module 'significance_testing' from 'C:\\\\Users\\\\Roxanne El Baff\\\\Documents\\\\projects\\\\acl2020-news-editorial-analysis\\\\significance_testing.py'>"
      ]
     },
     "execution_count": 14,
     "metadata": {},
     "output_type": "execute_result"
    }
   ],
   "source": [
    "import visualization"
   ]
  },
  {
   "cell_type": "markdown",
   "metadata": {},
   "source": [
    "### <a name=\"i20_cluster_analysis\">2.0 Cluster Analysis - RUN ALL Settings</a>"
   ]
  },
  {
   "cell_type": "code",
   "execution_count": 15,
   "metadata": {
    "collapsed": true,
    "scrolled": true
   },
   "outputs": [],
   "source": [
    "import itertools\n",
    "\n",
    "def get_cols_from_types(df, feature_type_comb):\n",
    "    all_cols = get_column_types(df)\n",
    "    aktuell_cols = []\n",
    "    for feature_type in feature_type_comb:\n",
    "        aktuell_cols.extend(all_cols[feature_type])\n",
    "    return aktuell_cols\n",
    "\n",
    "def run_cluster_analysis_preset_col(df, feature_type_comb=None):\n",
    "    if feature_type_comb is None:\n",
    "        feature_type_comb = get_column_types(df).keys()\n",
    "    aktuell_cols = get_cols_from_types(df, feature_type_comb)\n",
    "    print()\n",
    "    print(str(feature_type_comb))\n",
    "    k_optimal = cluster_analysis.elbow(df[aktuell_cols], normalize=True)\n",
    "    return k_optimal\n",
    "\n",
    "def run_cluster_analysis_all_comb(df):    \n",
    "    all_cols = get_column_types(df)\n",
    "    res = []\n",
    "    for i in range(1, len(all_cols.keys())+1):\n",
    "        combs = list(itertools.combinations(all_cols.keys(), i))\n",
    "        for comb in combs:\n",
    "            aktuell_cols = get_cols_from_types(df, comb)\n",
    "            k_optimal = run_cluster_analysis_preset_col(df, feature_type_comb=comb)\n",
    "            analyzer_coskmeans = cluster_analysis.Analyzer(df[aktuell_cols])\n",
    "            analyzer_coskmeans.set_algorithm(algorithm= 'cosine_kmeans', algorithm_args={'n_clusters':k_optimal})\n",
    "            score = analyzer_coskmeans.evaluate_silhouette_score(metric=\"cosine\")\n",
    "            res.append({'feature_types':comb, 'k': k_optimal,  'silhouette':score})\n",
    "    res_df = pd.DataFrame.from_dict(res)\n",
    "   \n",
    "    res_df = res_df.sort_values(by=['silhouette', 'k'], ascending=False)\n",
    "    return res_df\n",
    "\n",
    "# [ 'mpqa_args', 'mpqa_subj', 'mpqa_sentiment', 'nrc', 'liwc',  'adus']\n",
    "def run_cluster_analysis_one_col(df):    \n",
    "    res = []\n",
    "\n",
    "    for k, cols in get_column_types(df).items():\n",
    "        res += '\\ncolumn type'+ str(k) +  ' with ' + str(len(cols))+ ' columns:'\n",
    "        print('column type', k, ' with ', len(cols), ' columns:')\n",
    "        #cluster_analysis.elbow(lead_cluster_df[cols], normalize=False, k_range = range(2, 10 ))\n",
    "        k_optimal = cluster_analysis.elbow(df[cols], normalize=True, k_range = range(2, 10 ))\n",
    "        res.append(k_optimal)\n",
    "    print(res)\n",
    "\n"
   ]
  },
  {
   "cell_type": "code",
   "execution_count": 16,
   "metadata": {
    "collapsed": true
   },
   "outputs": [],
   "source": [
    "## SETTING for clustering\n",
    "# either using all feature types or best obne or best 2\n",
    "settings_dic = {'all': { ## all features\n",
    "                            'lead': [ 'mpqa_args', 'mpqa_subj', 'mpqa_sentiment', 'nrc', 'liwc',  'adus'],\n",
    "                            'body': [ 'mpqa_args', 'mpqa_subj', 'mpqa_sentiment', 'nrc', 'liwc',  'adus'],\n",
    "                            'end': [ 'mpqa_args', 'mpqa_subj', 'mpqa_sentiment', 'nrc', 'liwc',  'adus'],\n",
    "                            },\n",
    "               'best': { ## feature type with best sillhouette score (based on run_cluster_analysis_all_comb)\n",
    "                            'lead': [  'adus'],\n",
    "                            'body': [ 'mpqa_sentiment' ],\n",
    "                            'end':  ['mpqa_subj']\n",
    "                            },\n",
    "               'best2':  { # at least 2 feature types with best silhouette score ((based on run_cluster_analysis_all_comb))\n",
    "                            'lead': [  'mpqa_subj','adus'],\n",
    "                            'body': [  'mpqa_subj','adus'],\n",
    "                            'end':  [  'mpqa_subj','adus']\n",
    "                            }\n",
    "               }\n",
    "\n",
    "setting_all= {}\n",
    "setting_all['all'] = settings_dic['all']"
   ]
  },
  {
   "cell_type": "code",
   "execution_count": null,
   "metadata": {},
   "outputs": [],
   "source": [
    "pars_features_df['discourse_level']"
   ]
  },
  {
   "cell_type": "code",
   "execution_count": 112,
   "metadata": {
    "collapsed": true
   },
   "outputs": [],
   "source": [
    "####################\n",
    "####  HELPERS   ####\n",
    "####################\n",
    "def get_article_flow_df(predicted_dict):    \n",
    "    article_flow = pd.DataFrame(columns = [ 'flow', 'id'])#lead_predicted_labels.copy()\n",
    "    article_flow.set_index('id', inplace=True)\n",
    "    for idx, row in predicted_dict['lead'].iterrows():\n",
    "        body_cluster = predicted_dict['body'].loc[idx]['cluster'] if idx in predicted_dict['body'].index else 'body:'\n",
    "        end_cluster = predicted_dict['end'].loc[idx]['cluster'] if idx in predicted_dict['end'].index else 'end:'\n",
    "        flow = row['cluster'] + body_cluster + end_cluster\n",
    "        article_flow.loc[idx]= flow\n",
    "\n",
    "    return article_flow\n",
    "\n",
    "def apply_flow(row, predicted_dic, article_flow):\n",
    "    a_id = row.name\n",
    "    row['flow'] =  article_flow.loc[a_id]['flow']\n",
    "    row['lead_cluster'] =  predicted_dic['lead'].loc[a_id]['cluster']\n",
    "    row['body_cluster'] =  predicted_dic['body'].loc[a_id]['cluster'] if a_id in predicted_dic['body'].index else ''\n",
    "    row['end_cluster'] =  predicted_dic['end'].loc[a_id]['cluster']\n",
    "    return row\n",
    "\n",
    "####################################################################################################\n",
    "####    Run cluster analysis for several settings > generate flows > labels on training data    ####\n",
    "####################################################################################################\n",
    "importlib.reload(cluster_analysis)\n",
    "def run_cluster_analysis(ideology_a_articles_df, \n",
    "                     ideology_b_articles_df, df,\n",
    "                    desc = \"default\"):\n",
    "    single_setting_predictions = {}\n",
    "    significancy_result= {}\n",
    "    for discourse_level in ['lead', 'body', 'end']:\n",
    "\n",
    "        ## INIT\n",
    "        df_ = clustering_discourse_level(df, discourse_level=discourse_level, normalize=False)\n",
    "\n",
    "\n",
    "        print('filtering our features wich has 75% of entries without a values')\n",
    "        df_ = df_.loc[:,~df_.columns.duplicated()]\n",
    "        desc_df= df_.describe().T\n",
    "        desc_df= desc_df[desc_df['75%'] > 0]\n",
    "\n",
    "        df_ = df_[desc_df.index.values]\n",
    "        #desc_.index.values \n",
    "        ## CLUSTER ANALYSIS\n",
    "        optimal_k = cluster_analysis.elbow(df_,normalize = True, visualize=False )\n",
    "\n",
    "        analyzer_cos_kmeans = cluster_analysis.Analyzer(df_)\n",
    "        analyzer_cos_kmeans.set_algorithm(algorithm= 'cosine_kmeans', algorithm_args={'n_clusters':optimal_k})\n",
    "        analyzer_cos_kmeans.evaluate_silhouette_score(metric=\"cosine\")\n",
    "        #cluster_lbl_ = analyzer_cos_kmeans.predict_labels('id')\n",
    "\n",
    "        ## PREDICT LABEL\n",
    "        predicted_df = analyzer_cos_kmeans.predict_labels('id', apply=True)\n",
    "        print('Plotting for:')\n",
    "        print(analyzer_cos_kmeans.top_vars('id', top=4, plot=True))\n",
    "        single_setting_predictions[discourse_level] = predicted_df\n",
    "\n",
    "        ## Significance Testing - \n",
    "        ## H0: There is no significance difference between features (e.g. Liwc tone)\n",
    "        ##  across all clusters for ONE discourse level/setting\n",
    "        ## EXAMPLE of H0: There is no significance difference between Liwc emotional tone \n",
    "        ##                across all cluster types for LEAD.\n",
    "        significancy_result[discourse_level] =significance_testing.significance(analyzer_cos_kmeans.df, #save=False, \n",
    "                                          #desc='significance_tests/{}/sigtest_{}'.format(desc, discourse_level),\n",
    "                                          independent_var='cluster')\n",
    "    article_flow_df = get_article_flow_df(single_setting_predictions)\n",
    "\n",
    "    ideology_a_articles_df = ideology_a_articles_df.apply(apply_flow,  args=(single_setting_predictions,  article_flow_df),\n",
    "                                                                          axis=1)\n",
    "    ideology_b_articles_df = ideology_b_articles_df.apply(apply_flow, \n",
    "                                                                          args=(single_setting_predictions, \n",
    "                                                                                article_flow_df),\n",
    "                                                                          axis=1)\n",
    "    return significancy_result, ideology_a_articles_df, ideology_b_articles_df\n",
    "\n",
    "\n",
    "def run_stats_lib_gg_cons(con_df, lib_df):\n",
    "    # For each effect/cluster(lead, body, end, flow), check if liberal is sign. different than cons\n",
    "    effects = list(lib_df['majority'].unique())\n",
    "    ivs = ['flow', 'lead_cluster', 'body_cluster', 'end_cluster']\n",
    "    for k in settings_dic.keys():\n",
    "        for iv in ivs :\n",
    "            for effect in effects:\n",
    "                cons_df_ = con_df.copy()[[iv, effect]]\n",
    "                lib_df_ = lib_df.copy()[[iv, effect]]\n",
    "                significance_testing.significance(original_df, features, save = False,\n",
    "                                                  desc='', independent_var='cluster')\n",
    "\n",
    "   \n",
    "    "
   ]
  },
  {
   "cell_type": "code",
   "execution_count": 113,
   "metadata": {
    "scrolled": true
   },
   "outputs": [
    {
     "name": "stdout",
     "output_type": "stream",
     "text": [
      "getting only numeric features from the training set...\n",
      "There are 128  numeric features out of 128\n",
      "filtering our features wich has 75% of entries without a values\n",
      "cosine_kmeans - silhouette_score: 0.31769145210224925\n",
      "0.25.2\n",
      "Plotting for:\n",
      "88\n",
      "88\n"
     ]
    },
    {
     "data": {
      "image/png": "[encoded data removed]",
      "text/plain": [
       "<matplotlib.figure.Figure at 0x1d519de1278>"
      ]
     },
     "metadata": {},
     "output_type": "display_data"
    },
    {
     "name": "stdout",
     "output_type": "stream",
     "text": [
      "                         Variable       Var\n",
      "67               liwc_scores_tone  0.254082\n",
      "1           liwc_scores_authentic  0.191975\n",
      "45  liwc_scores_categories_posemo  0.159696\n",
      "68                 liwc_scores_wc  0.142322\n",
      "data has 783 instances\n",
      "bonforrini_threshold:  0.002380952380952381\n",
      "getting only numeric features from the training set...\n",
      "There are 128  numeric features out of 128\n",
      "filtering our features wich has 75% of entries without a values\n",
      "cosine_kmeans - silhouette_score: 0.3144226230568439\n",
      "0.25.2\n",
      "Plotting for:\n",
      "96\n",
      "96\n"
     ]
    },
    {
     "data": {
      "image/png": "[encoded data removed]",
      "text/plain": [
       "<matplotlib.figure.Figure at 0x1d519a65048>"
      ]
     },
     "metadata": {},
     "output_type": "display_data"
    },
    {
     "name": "stdout",
     "output_type": "stream",
     "text": [
      "                          Variable       Var\n",
      "72                liwc_scores_tone  0.181024\n",
      "1            liwc_scores_authentic  0.162569\n",
      "49   liwc_scores_categories_posemo  0.141623\n",
      "55  liwc_scores_categories_relativ  0.123243\n",
      "data has 782 instances\n",
      "bonforrini_threshold:  0.002380952380952381\n",
      "getting only numeric features from the training set...\n",
      "There are 128  numeric features out of 128\n",
      "filtering our features wich has 75% of entries without a values\n",
      "cosine_kmeans - silhouette_score: 0.3447662621566162\n",
      "0.25.2\n",
      "Plotting for:\n",
      "79\n",
      "79\n"
     ]
    },
    {
     "data": {
      "image/png": "[encoded data removed]",
      "text/plain": [
       "<matplotlib.figure.Figure at 0x1d519b30a90>"
      ]
     },
     "metadata": {},
     "output_type": "display_data"
    },
    {
     "name": "stdout",
     "output_type": "stream",
     "text": [
      "                         Variable       Var\n",
      "59               liwc_scores_tone  0.342242\n",
      "1           liwc_scores_authentic  0.263429\n",
      "38  liwc_scores_categories_posemo  0.168316\n",
      "60                 liwc_scores_wc  0.161306\n",
      "data has 783 instances\n",
      "bonforrini_threshold:  0.002380952380952381\n"
     ]
    }
   ],
   "source": [
    "train_liberal_articles_df = df_majority[['liberal_majority']]\n",
    "\n",
    "train_conservative_articles_df = df_majority[['conservative_majority']]\n",
    "significancy_result, train_liberal_articles_df, train_conservative_articles_df = run_cluster_analysis(train_liberal_articles_df, \n",
    "                     train_conservative_articles_df, pars_features_df,\n",
    "                      desc='normalized_allfeatures')"
   ]
  },
  {
   "cell_type": "code",
   "execution_count": null,
   "metadata": {
    "collapsed": true
   },
   "outputs": [],
   "source": [
    "def apply_effective(row, label):\n",
    "    row['is_effective'] = False if (row[label] == 'no_effect') else True\n",
    "    return row\n",
    "\n",
    "train_liberal_articles_df = train_liberal_articles_df.apply(apply_effective, args=('liberal_majority',),axis=1)\n",
    "train_conservative_articles_df = train_conservative_articles_df.apply(apply_effective, args=('conservative_majority',),axis=1)\n"
   ]
  },
  {
   "cell_type": "code",
   "execution_count": 155,
   "metadata": {
    "collapsed": true
   },
   "outputs": [],
   "source": [
    "def get_distr(col):\n",
    "    \n",
    "    col = round(col/sum(col.values), 2)\n",
    "    \n",
    "    return col\n",
    "def add_sum(row):\n",
    "    row['sum'] = row.values.sum()\n",
    "    return row\n",
    "\n",
    "def count_cluster(lib_df, conv_df, cluster):\n",
    "    lib = pd.crosstab(lib_df[cluster], lib_df['liberal_majority'])\n",
    "    cons = pd.crosstab(conv_df[cluster], conv_df['conservative_majority'])\n",
    "    all_df =  lib.join(cons, how=\"outer\", lsuffix ='_lib', rsuffix = \"_cons\")\n",
    "    all_df = all_df[['challenging_lib', 'no_effect_lib', 'reinforcing_lib', 'challenging_cons', 'no_effect_cons', \n",
    "                     'reinforcing_cons']]\n",
    "    all_df=all_df.apply(add_sum, axis=1)\n",
    "    dstr_df = all_df.apply(get_distr, axis=0)\n",
    "    return all_df, dstr_df\n",
    "\n",
    "count_lead, dstr_lead=count_cluster(train_liberal_articles_df, train_conservative_articles_df, 'lead_cluster')\n",
    "\n",
    "count_body, dstr_body=count_cluster(train_liberal_articles_df, train_conservative_articles_df, 'body_cluster')\n",
    "count_end, dstr_end =count_cluster(train_liberal_articles_df, train_conservative_articles_df, 'end_cluster')\n",
    "count_flow, dstr_flow =count_cluster(train_liberal_articles_df, train_conservative_articles_df, 'flow')\n",
    "\n",
    "#count_flow.sort_values(by=['sum'], ascending=False).to_csv('4dec_flows.csv')\n"
   ]
  },
  {
   "cell_type": "code",
   "execution_count": 115,
   "metadata": {},
   "outputs": [
    {
     "data": {
      "text/html": [
       "<div>\n",
       "<style scoped>\n",
       "    .dataframe tbody tr th:only-of-type {\n",
       "        vertical-align: middle;\n",
       "    }\n",
       "\n",
       "    .dataframe tbody tr th {\n",
       "        vertical-align: top;\n",
       "    }\n",
       "\n",
       "    .dataframe thead th {\n",
       "        text-align: right;\n",
       "    }\n",
       "</style>\n",
       "<table border=\"1\" class=\"dataframe\">\n",
       "  <thead>\n",
       "    <tr style=\"text-align: right;\">\n",
       "      <th></th>\n",
       "      <th>challenging_lib</th>\n",
       "      <th>no_effect_lib</th>\n",
       "      <th>reinforcing_lib</th>\n",
       "      <th>challenging_cons</th>\n",
       "      <th>no_effect_cons</th>\n",
       "      <th>reinforcing_cons</th>\n",
       "      <th>sum</th>\n",
       "    </tr>\n",
       "    <tr>\n",
       "      <th>lead_cluster</th>\n",
       "      <th></th>\n",
       "      <th></th>\n",
       "      <th></th>\n",
       "      <th></th>\n",
       "      <th></th>\n",
       "      <th></th>\n",
       "      <th></th>\n",
       "    </tr>\n",
       "  </thead>\n",
       "  <tbody>\n",
       "    <tr>\n",
       "      <th>a</th>\n",
       "      <td>16</td>\n",
       "      <td>17</td>\n",
       "      <td>80</td>\n",
       "      <td>19</td>\n",
       "      <td>39</td>\n",
       "      <td>55</td>\n",
       "      <td>226</td>\n",
       "    </tr>\n",
       "    <tr>\n",
       "      <th>b</th>\n",
       "      <td>25</td>\n",
       "      <td>11</td>\n",
       "      <td>81</td>\n",
       "      <td>23</td>\n",
       "      <td>42</td>\n",
       "      <td>52</td>\n",
       "      <td>234</td>\n",
       "    </tr>\n",
       "    <tr>\n",
       "      <th>c</th>\n",
       "      <td>19</td>\n",
       "      <td>14</td>\n",
       "      <td>61</td>\n",
       "      <td>15</td>\n",
       "      <td>36</td>\n",
       "      <td>43</td>\n",
       "      <td>188</td>\n",
       "    </tr>\n",
       "    <tr>\n",
       "      <th>d</th>\n",
       "      <td>30</td>\n",
       "      <td>27</td>\n",
       "      <td>91</td>\n",
       "      <td>21</td>\n",
       "      <td>55</td>\n",
       "      <td>72</td>\n",
       "      <td>296</td>\n",
       "    </tr>\n",
       "    <tr>\n",
       "      <th>e</th>\n",
       "      <td>8</td>\n",
       "      <td>21</td>\n",
       "      <td>77</td>\n",
       "      <td>13</td>\n",
       "      <td>48</td>\n",
       "      <td>45</td>\n",
       "      <td>212</td>\n",
       "    </tr>\n",
       "    <tr>\n",
       "      <th>f</th>\n",
       "      <td>14</td>\n",
       "      <td>13</td>\n",
       "      <td>73</td>\n",
       "      <td>21</td>\n",
       "      <td>35</td>\n",
       "      <td>44</td>\n",
       "      <td>200</td>\n",
       "    </tr>\n",
       "    <tr>\n",
       "      <th>g</th>\n",
       "      <td>14</td>\n",
       "      <td>15</td>\n",
       "      <td>76</td>\n",
       "      <td>16</td>\n",
       "      <td>37</td>\n",
       "      <td>52</td>\n",
       "      <td>210</td>\n",
       "    </tr>\n",
       "  </tbody>\n",
       "</table>\n",
       "</div>"
      ],
      "text/plain": [
       "              challenging_lib  no_effect_lib  reinforcing_lib  \\\n",
       "lead_cluster                                                    \n",
       "a                          16             17               80   \n",
       "b                          25             11               81   \n",
       "c                          19             14               61   \n",
       "d                          30             27               91   \n",
       "e                           8             21               77   \n",
       "f                          14             13               73   \n",
       "g                          14             15               76   \n",
       "\n",
       "              challenging_cons  no_effect_cons  reinforcing_cons  sum  \n",
       "lead_cluster                                                           \n",
       "a                           19              39                55  226  \n",
       "b                           23              42                52  234  \n",
       "c                           15              36                43  188  \n",
       "d                           21              55                72  296  \n",
       "e                           13              48                45  212  \n",
       "f                           21              35                44  200  \n",
       "g                           16              37                52  210  "
      ]
     },
     "execution_count": 115,
     "metadata": {},
     "output_type": "execute_result"
    }
   ],
   "source": [
    "count_lead"
   ]
  },
  {
   "cell_type": "code",
   "execution_count": 116,
   "metadata": {},
   "outputs": [
    {
     "data": {
      "text/html": [
       "<div>\n",
       "<style scoped>\n",
       "    .dataframe tbody tr th:only-of-type {\n",
       "        vertical-align: middle;\n",
       "    }\n",
       "\n",
       "    .dataframe tbody tr th {\n",
       "        vertical-align: top;\n",
       "    }\n",
       "\n",
       "    .dataframe thead th {\n",
       "        text-align: right;\n",
       "    }\n",
       "</style>\n",
       "<table border=\"1\" class=\"dataframe\">\n",
       "  <thead>\n",
       "    <tr style=\"text-align: right;\">\n",
       "      <th></th>\n",
       "      <th>challenging_lib</th>\n",
       "      <th>no_effect_lib</th>\n",
       "      <th>reinforcing_lib</th>\n",
       "    </tr>\n",
       "    <tr>\n",
       "      <th>lead_cluster</th>\n",
       "      <th></th>\n",
       "      <th></th>\n",
       "      <th></th>\n",
       "    </tr>\n",
       "  </thead>\n",
       "  <tbody>\n",
       "    <tr>\n",
       "      <th>a</th>\n",
       "      <td>0.13</td>\n",
       "      <td>0.14</td>\n",
       "      <td>0.15</td>\n",
       "    </tr>\n",
       "    <tr>\n",
       "      <th>b</th>\n",
       "      <td>0.20</td>\n",
       "      <td>0.09</td>\n",
       "      <td>0.15</td>\n",
       "    </tr>\n",
       "    <tr>\n",
       "      <th>c</th>\n",
       "      <td>0.15</td>\n",
       "      <td>0.12</td>\n",
       "      <td>0.11</td>\n",
       "    </tr>\n",
       "    <tr>\n",
       "      <th>d</th>\n",
       "      <td>0.24</td>\n",
       "      <td>0.23</td>\n",
       "      <td>0.17</td>\n",
       "    </tr>\n",
       "    <tr>\n",
       "      <th>e</th>\n",
       "      <td>0.06</td>\n",
       "      <td>0.18</td>\n",
       "      <td>0.14</td>\n",
       "    </tr>\n",
       "    <tr>\n",
       "      <th>f</th>\n",
       "      <td>0.11</td>\n",
       "      <td>0.11</td>\n",
       "      <td>0.14</td>\n",
       "    </tr>\n",
       "    <tr>\n",
       "      <th>g</th>\n",
       "      <td>0.11</td>\n",
       "      <td>0.13</td>\n",
       "      <td>0.14</td>\n",
       "    </tr>\n",
       "  </tbody>\n",
       "</table>\n",
       "</div>"
      ],
      "text/plain": [
       "              challenging_lib  no_effect_lib  reinforcing_lib\n",
       "lead_cluster                                                 \n",
       "a                        0.13           0.14             0.15\n",
       "b                        0.20           0.09             0.15\n",
       "c                        0.15           0.12             0.11\n",
       "d                        0.24           0.23             0.17\n",
       "e                        0.06           0.18             0.14\n",
       "f                        0.11           0.11             0.14\n",
       "g                        0.11           0.13             0.14"
      ]
     },
     "execution_count": 116,
     "metadata": {},
     "output_type": "execute_result"
    }
   ],
   "source": [
    "dstr_lead[cs]"
   ]
  },
  {
   "cell_type": "code",
   "execution_count": 159,
   "metadata": {},
   "outputs": [
    {
     "data": {
      "text/plain": [
       "array([0, 0, 0, 0, 0, 0, 1, 0, 0, 1, 2, 1, 0, 1, 0, 0, 0, 1, 0, 0, 0, 0,\n",
       "       0, 1, 0, 0, 0, 1, 0, 0, 0, 1, 0, 3, 1, 0, 1, 0, 2, 0, 0, 0, 0, 0,\n",
       "       0, 0, 1, 1, 0, 0, 0, 0, 0, 1, 0, 0, 0, 1, 1, 0, 0, 0, 1, 1, 0, 1,\n",
       "       0, 1, 1, 0, 0, 0, 0, 1, 0, 0, 0, 0, 0, 0, 0, 2, 0, 0, 2, 1, 0, 0,\n",
       "       0, 1, 0, 0, 1, 0, 0, 0, 0, 0, 0, 0, 0, 0, 0, 0, 1, 2, 1, 1, 1, 0,\n",
       "       0, 1, 0, 0, 2, 1, 0, 0, 2, 0, 1, 0, 1, 1, 0, 1, 0, 0, 0, 0, 0, 3,\n",
       "       0, 0, 0, 1, 0, 0, 0, 1, 0, 1, 1, 2, 0, 1, 1, 3, 1, 0, 1, 0, 2, 0,\n",
       "       0, 1, 0, 0, 1, 1, 0, 1, 0, 1, 0, 1, 0, 1, 0, 0, 0, 0, 0, 0, 1, 0,\n",
       "       0, 1, 0, 0, 0, 2, 2, 1, 0, 1, 0, 0, 0, 3, 1, 2, 0, 0, 0, 0, 0, 0,\n",
       "       0, 1, 0, 0, 0, 2, 0, 0, 0, 1, 3, 0, 0, 0, 0, 0, 0, 0, 1, 0, 0, 3,\n",
       "       0, 0, 0, 0, 0, 0, 1, 1, 0, 0, 0, 0, 1, 0, 1, 1, 0, 0, 0, 1, 3, 0,\n",
       "       0, 1, 0, 0, 0, 0, 0, 0, 0, 0, 1, 0, 0, 0, 0, 0, 0, 1, 1, 1, 0, 0,\n",
       "       0, 0, 2, 1], dtype=int64)"
      ]
     },
     "execution_count": 159,
     "metadata": {},
     "output_type": "execute_result"
    }
   ],
   "source": [
    "#cs= [c for c in count_lead.columns.values if c.endswith('_lib')]\n",
    "a = 'no_effect_lib'\n",
    "b= 'reinforcing_lib'\n",
    "#obs =count_flow[((count_flow[a] > 0 ) &  (count_flow[b] > 0))]\n",
    "obs = count_flow[[a,b]]\n",
    "stats.chisquare(obs[a].values, obs[b].values)\n"
   ]
  },
  {
   "cell_type": "code",
   "execution_count": 59,
   "metadata": {},
   "outputs": [
    {
     "name": "stdout",
     "output_type": "stream",
     "text": [
      "[183, 161, 134, 104, 103, 97]\n"
     ]
    }
   ],
   "source": [
    "print(list(train_conservative_articles_df['lead_cluster'].value_counts()))"
   ]
  },
  {
   "cell_type": "code",
   "execution_count": null,
   "metadata": {
    "collapsed": true
   },
   "outputs": [],
   "source": [
    "#count_clusters_poi_ideo['all_flow'].sort_values(by=['liberal_reinforcing'], ascending=False).to_csv('flows.csv')"
   ]
  },
  {
   "cell_type": "code",
   "execution_count": 58,
   "metadata": {},
   "outputs": [
    {
     "data": {
      "text/plain": [
       "Power_divergenceResult(statistic=48.17902813299233, pvalue=3.265235909352374e-09)"
      ]
     },
     "execution_count": 58,
     "metadata": {},
     "output_type": "execute_result"
    }
   ],
   "source": [
    "from scipy.stats import chisquare\n",
    "\n",
    "chisquare(list(train_conservative_articles_df['lead_cluster'].value_counts()))# H0: Clusters are equally Distributed rejected at p<0.001 (statistic=43.855, pvalue=2.4786323025345345e-08)"
   ]
  },
  {
   "cell_type": "code",
   "execution_count": null,
   "metadata": {
    "collapsed": true,
    "scrolled": false
   },
   "outputs": [],
   "source": [
    "## FOR LEAD BODY END : with each pole, H0: There is no different with cluster type on the effect\n",
    "## Liberal:\n",
    "# H0: Editorial's effect is not associated with cluster type\n",
    "def sigtest_clusters_within_effect(df, target):\n",
    "    pois = ['flow', 'lead_cluster', 'body_cluster', 'end_cluster']\n",
    "    #effects = ['reinforcing', 'challenging', 'all_body_cluster', 'all_end_cluster']\n",
    "    #vs = df['majority'].unique()\n",
    "\n",
    "    effects = list(df[target].unique())\n",
    "    for poi in pois:\n",
    "        for effect, effect_df in df.groupby(target):\n",
    "            \n",
    "           \n",
    "            counts = list(effect_df[poi].value_counts().values)\n",
    "            if all(i >= 5 for i in counts):\n",
    "                x, p_value = chisquare(counts)\n",
    "                if p_value<0.05:\n",
    "                    print()\n",
    "                    print(poi, ' ', effect )\n",
    "\n",
    "                    print('For {} with effect: {} - p value is < 0,05: {} with p_value={} and X2={}'.format(poi,\n",
    "                                                                                                     effect,\n",
    "                                                                                                     str(p_value<0.05),\n",
    "                                                                                                     str(round(p_value,20)),\n",
    "                                                                                                     str(round(x,2))))\n",
    "            #else:\n",
    "                \n",
    "                #print(\"CAN NOT USE CHISQUARE! {} {}\".format(poi,effect))\n",
    "\n",
    "#sigtest_clusters_within_effect(train_conservative_articles_df)    \n",
    "#all(i >= 5 for i in [8,5,7])\n",
    "#(train_liberal_articles_df['all_body_cluster'].value_counts())"
   ]
  },
  {
   "cell_type": "code",
   "execution_count": 123,
   "metadata": {
    "collapsed": true
   },
   "outputs": [],
   "source": [
    "import scipy.stats as stats\n",
    "# Effect is not associated with cluster\n",
    "def within_political(df, var1, var2, alfa=0.05):\n",
    "    \n",
    "    cross_tab = pd.crosstab(df[var1], df[var2])\n",
    "    #r, p_value = stats.fisher_exact(cross_tab.values)#chi2_contingency(cross_tab)\n",
    "    chi_square, p_value, df, expected= stats.chi2_contingency(cross_tab)\n",
    "    if p_value<alfa:\n",
    "        print(\"p_value: {}\".format(str(round(p_value, 2))))\n",
    "    \n",
    "\n",
    "def across(lib_df, conv_df, cluster, alfa = 0.05):\n",
    "    lib = pd.crosstab(lib_df[cluster], lib_df['liberal_majority'])\n",
    "    cons = pd.crosstab(conv_df[cluster], conv_df['conservative_majority'])\n",
    "    all_df =  lib.join(cons, how=\"outer\", lsuffix ='_lib', rsuffix = \"_cons\")\n",
    "    effects = ['challenging',  'no_effect','reinforcing']\n",
    "    all_df.reset_index(inplace=True)#\n",
    "    all_df.replace('', np.nan, inplace=True)\n",
    "    all_df.dropna(inplace=True)\n",
    "    all_df = all_df.set_index(cluster)\n",
    "    all_df = all_df[(all_df.T != 0).any()]\n",
    "    #return all_df\n",
    "    for effect in effects:\n",
    "        df = all_df[[effect+'_lib', effect+'_cons']]\n",
    "        df = df[(df.T != 0).any()]\n",
    "        chi_square, p_value, df, expected = stats.chi2_contingency(df)\n",
    "        #if p_value < alfa:\n",
    "        print(\"effect {} - cluster: {} - p_value: {}\".format(effect, \n",
    "                                                             cluster,\n",
    "                                                             str(round(p_value, 10))))"
   ]
  },
  {
   "cell_type": "code",
   "execution_count": 124,
   "metadata": {
    "collapsed": true
   },
   "outputs": [],
   "source": [
    "## add all comb\n",
    "def apply_add_flows (row):\n",
    "    row['flow_lead_body'] = row['lead_cluster'] + row['body_cluster'] \n",
    "    row['flow_lead_end'] = row['lead_cluster'] + row['end_cluster'] \n",
    "    row['flow_body_end'] = row['body_cluster'] + row['end_cluster'] \n",
    "    return row\n",
    "train_conservative_articles_df = train_conservative_articles_df.apply(apply_add_flows, axis=1)\n",
    "train_liberal_articles_df = train_liberal_articles_df.apply(apply_add_flows, axis=1)\n",
    "\n",
    "#train_extreme_articles_df = train_extreme_articles_df.apply(apply_add_flows, axis=1)\n",
    "#train_lean_articles_df = train_lean_articles_df.apply(apply_add_flows, axis=1)"
   ]
  },
  {
   "cell_type": "code",
   "execution_count": 125,
   "metadata": {},
   "outputs": [
    {
     "data": {
      "text/plain": [
       "array([[19, 23, 15, 21, 13, 21, 16],\n",
       "       [39, 42, 36, 55, 48, 35, 37],\n",
       "       [55, 52, 43, 72, 45, 44, 52]], dtype=int64)"
      ]
     },
     "execution_count": 125,
     "metadata": {},
     "output_type": "execute_result"
    }
   ],
   "source": [
    "train_conservative_articles_df\n",
    "pd.crosstab(train_conservative_articles_df['conservative_majority'], \n",
    "            train_conservative_articles_df['lead_cluster']).values #'majority', 'flow_lead_body')\n",
    "\n"
   ]
  },
  {
   "cell_type": "code",
   "execution_count": 126,
   "metadata": {
    "collapsed": true
   },
   "outputs": [],
   "source": [
    "train_liberal_articles_df = train_liberal_articles_df[train_liberal_articles_df['body_cluster'] != '']\n",
    "train_conservative_articles_df = train_conservative_articles_df[train_conservative_articles_df['body_cluster'] != '']"
   ]
  },
  {
   "cell_type": "code",
   "execution_count": 136,
   "metadata": {
    "collapsed": true
   },
   "outputs": [],
   "source": [
    "def run_within_cross_chitests(a_df, b_df, a, b):\n",
    "    for flow in [ 'flow']:\n",
    "        print(flow, ' - ', a)\n",
    "        within_political(a_df, a+'_'+'majority', flow)\n",
    "        print()\n",
    "\n",
    "       \n",
    "    \n"
   ]
  },
  {
   "cell_type": "code",
   "execution_count": 137,
   "metadata": {},
   "outputs": [
    {
     "name": "stdout",
     "output_type": "stream",
     "text": [
      "flow  -  liberal\n",
      "p_value: 0.01\n",
      "\n"
     ]
    }
   ],
   "source": [
    "#run_within_cross_chitests(train_lean_articles_df, train_extreme_articles_df, 'lean', 'extreme')\n",
    "run_within_cross_chitests(train_liberal_articles_df, train_conservative_articles_df, 'liberal', 'conservative')"
   ]
  }
 ],
 "metadata": {
  "kernelspec": {
   "display_name": "Python 3",
   "language": "python",
   "name": "python3"
  },
  "language_info": {
   "codemirror_mode": {
    "name": "ipython",
    "version": 3
   },
   "file_extension": ".py",
   "mimetype": "text/x-python",
   "name": "python",
   "nbconvert_exporter": "python",
   "pygments_lexer": "ipython3",
   "version": "3.7.3"
  }
 },
 "nbformat": 4,
 "nbformat_minor": 2
}
